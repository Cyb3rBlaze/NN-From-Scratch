{
 "cells": [
  {
   "attachments": {},
   "cell_type": "markdown",
   "metadata": {},
   "source": [
    "## Imports"
   ]
  },
  {
   "cell_type": "code",
   "execution_count": 1,
   "metadata": {},
   "outputs": [],
   "source": [
    "import numpy as np\n",
    "\n",
    "from utils.layer import Layer\n",
    "from utils.loss import binary_cross_entropy_loss, d_binary_cross_entropy_loss"
   ]
  },
  {
   "attachments": {},
   "cell_type": "markdown",
   "metadata": {},
   "source": [
    "## Train step function definition"
   ]
  },
  {
   "cell_type": "code",
   "execution_count": 2,
   "metadata": {},
   "outputs": [],
   "source": [
    "# defining train step function for gradient descent\n",
    "\n",
    "def forward_pass(model, input):\n",
    "    logit = input\n",
    "    for i in range(len(model)):\n",
    "        logit = model[i].forward(logit)\n",
    "    return logit\n",
    "\n",
    "def train_step(model, input, label, lr):\n",
    "    logit = forward_pass(model, input)\n",
    "\n",
    "    loss = binary_cross_entropy_loss(logit, label)\n",
    "    # duplicating to update weights + biases\n",
    "    prev_chain = np.tile(d_binary_cross_entropy_loss(logit, label), (2, 1))\n",
    "\n",
    "    for i in range(len(model)):\n",
    "        prev_chain = model[len(model)-i-1].backward(prev_chain, lr)\n",
    "    \n",
    "    return loss"
   ]
  },
  {
   "attachments": {},
   "cell_type": "markdown",
   "metadata": {},
   "source": [
    "## One neuron perceptron test\n",
    "\n",
    "### NOT gate task"
   ]
  },
  {
   "cell_type": "code",
   "execution_count": 3,
   "metadata": {},
   "outputs": [
    {
     "name": "stdout",
     "output_type": "stream",
     "text": [
      "Loss: 0.4788526599237397\n",
      "Loss: 0.38856600398924784\n",
      "Loss: 0.2590296896159199\n",
      "Loss: 0.19019075166175864\n",
      "Loss: 0.1488990012908821\n",
      "Loss: 0.12175749597247663\n",
      "Loss: 0.10269845347301287\n",
      "Loss: 0.08864212947145639\n",
      "Loss: 0.0778783466269016\n",
      "Loss: 0.06938822173305445\n",
      "[0.03995475]\n",
      "[0.9393851]\n"
     ]
    },
    {
     "name": "stderr",
     "output_type": "stream",
     "text": [
      "/Users/anshul/Desktop/Python Projects/NN-From-Scratch/utils/layer.py:75: VisibleDeprecationWarning: Creating an ndarray from ragged nested sequences (which is a list-or-tuple of lists-or-tuples-or ndarrays with different lengths or shapes) is deprecated. If you meant to do this, you must specify 'dtype=object' when creating the ndarray.\n",
      "  return np.array([dout_dw, dout_db])\n"
     ]
    }
   ],
   "source": [
    "inputs = [1, 0]\n",
    "labels = [0, 1]\n",
    "\n",
    "model = [Layer(1, 1, activation=\"sigmoid\")]\n",
    "\n",
    "real_input = np.array([inputs[0]])\n",
    "real_label = np.array([labels[0]])\n",
    "\n",
    "for i in range(1000):\n",
    "    loss = train_step(model, real_input, real_label, 0.1)\n",
    "\n",
    "    real_input = np.array([inputs[i%2]])\n",
    "    real_label = np.array([labels[i%2]])\n",
    "\n",
    "    if i % 100 == 0:\n",
    "        print(\"Loss: \" + str(loss))\n",
    "\n",
    "print(forward_pass(model, np.array([inputs[0]])))\n",
    "print(forward_pass(model, np.array([inputs[1]])))"
   ]
  },
  {
   "attachments": {},
   "cell_type": "markdown",
   "metadata": {},
   "source": [
    "## Multilayer perceptron network test\n",
    "### NOT gate task"
   ]
  },
  {
   "cell_type": "code",
   "execution_count": null,
   "metadata": {},
   "outputs": [],
   "source": [
    "inputs = [1, 0]\n",
    "labels = [0, 1]\n",
    "\n",
    "model = [Layer(10, 1, activation=\"sigmoid\"), Layer(10, 10, activation=\"sigmoid\"), Layer(1, 10, activation=\"sigmoid\")]\n",
    "\n",
    "real_input = np.array([inputs[0]])\n",
    "real_label = np.array([labels[0]])\n",
    "\n",
    "for i in range(1000):\n",
    "    loss = train_step(model, real_input, real_label, 0.1)\n",
    "\n",
    "    real_input = np.array([inputs[i%2]])\n",
    "    real_label = np.array([labels[i%2]])\n",
    "\n",
    "    if i % 100 == 0:\n",
    "        print(\"Loss: \" + str(loss))\n",
    "\n",
    "print(forward_pass(model, np.array([inputs[0]])))\n",
    "print(forward_pass(model, np.array([inputs[1]])))"
   ]
  }
 ],
 "metadata": {
  "kernelspec": {
   "display_name": "env",
   "language": "python",
   "name": "python3"
  },
  "language_info": {
   "codemirror_mode": {
    "name": "ipython",
    "version": 3
   },
   "file_extension": ".py",
   "mimetype": "text/x-python",
   "name": "python",
   "nbconvert_exporter": "python",
   "pygments_lexer": "ipython3",
   "version": "3.8.9"
  },
  "orig_nbformat": 4,
  "vscode": {
   "interpreter": {
    "hash": "503745c8e30f479c4402e22a289640c4032d9a270f8b982fab510fb648d15b8c"
   }
  }
 },
 "nbformat": 4,
 "nbformat_minor": 2
}
